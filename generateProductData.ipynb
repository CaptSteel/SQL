{
 "cells": [
  {
   "cell_type": "code",
   "execution_count": 1,
   "metadata": {},
   "outputs": [],
   "source": [
    "import pandas as pd\n",
    "from faker import Faker"
   ]
  },
  {
   "cell_type": "code",
   "execution_count": 2,
   "metadata": {},
   "outputs": [],
   "source": [
    "fake = Faker()"
   ]
  },
  {
   "cell_type": "markdown",
   "metadata": {},
   "source": [
    "### Generating data"
   ]
  },
  {
   "cell_type": "code",
   "execution_count": 68,
   "metadata": {},
   "outputs": [],
   "source": [
    "# Customer Name\n",
    "n = 100000\n",
    "\n",
    "id = ['ID_'+str(i+1) for i in range(n)]\n",
    "prod_type = [fake.l() for i in range(n)]\n",
    "# middle_name = [fake.middle_name() for i in range(n)]\n",
    "last_name = [fake.last_name() for i in range(n)]\n",
    "phone = [fake.phone_number() for i in range(n)]\n",
    "address = [fake.address() for i in range(n)]\n",
    "pincode = [fake.postalcode_in_state() for i in range(n)]\n",
    "state = [fake.state() for i in range(n)]\n",
    "country = [fake.country() for i in range(n)]\n",
    "dob = [fake.date_of_birth() for i in range(n)]"
   ]
  },
  {
   "cell_type": "markdown",
   "metadata": {},
   "source": [
    "### Converting data to dataframe"
   ]
  },
  {
   "cell_type": "code",
   "execution_count": 69,
   "metadata": {},
   "outputs": [],
   "source": [
    "cdata = {\n",
    "    'cust_first_name':first_name,\n",
    "    'cust_last_name':last_name,\n",
    "    'cust_phone':phone,\n",
    "    'cust_address_1':address,\n",
    "    'cust_pincode':pincode,\n",
    "    'cust_state':state,\n",
    "    'cust_country':country,\n",
    "    'cust_dateOfBirth':dob\n",
    "}\n",
    "# cols = ['cust_first_name', 'cust_last_name', 'cust_phone']"
   ]
  },
  {
   "cell_type": "code",
   "execution_count": 70,
   "metadata": {},
   "outputs": [],
   "source": [
    "df = pd.DataFrame(cdata)"
   ]
  },
  {
   "cell_type": "code",
   "execution_count": 71,
   "metadata": {},
   "outputs": [
    {
     "name": "stdout",
     "output_type": "stream",
     "text": [
      "<class 'pandas.core.frame.DataFrame'>\n",
      "RangeIndex: 100000 entries, 0 to 99999\n",
      "Data columns (total 8 columns):\n",
      " #   Column            Non-Null Count   Dtype \n",
      "---  ------            --------------   ----- \n",
      " 0   cust_first_name   100000 non-null  object\n",
      " 1   cust_last_name    100000 non-null  object\n",
      " 2   cust_phone        100000 non-null  object\n",
      " 3   cust_address_1    100000 non-null  object\n",
      " 4   cust_pincode      100000 non-null  object\n",
      " 5   cust_state        100000 non-null  object\n",
      " 6   cust_country      100000 non-null  object\n",
      " 7   cust_dateOfBirth  100000 non-null  object\n",
      "dtypes: object(8)\n",
      "memory usage: 6.1+ MB\n"
     ]
    }
   ],
   "source": [
    "df.info()"
   ]
  },
  {
   "cell_type": "code",
   "execution_count": 72,
   "metadata": {},
   "outputs": [
    {
     "data": {
      "text/html": [
       "<div>\n",
       "<style scoped>\n",
       "    .dataframe tbody tr th:only-of-type {\n",
       "        vertical-align: middle;\n",
       "    }\n",
       "\n",
       "    .dataframe tbody tr th {\n",
       "        vertical-align: top;\n",
       "    }\n",
       "\n",
       "    .dataframe thead th {\n",
       "        text-align: right;\n",
       "    }\n",
       "</style>\n",
       "<table border=\"1\" class=\"dataframe\">\n",
       "  <thead>\n",
       "    <tr style=\"text-align: right;\">\n",
       "      <th></th>\n",
       "      <th>cust_first_name</th>\n",
       "      <th>cust_last_name</th>\n",
       "      <th>cust_phone</th>\n",
       "      <th>cust_address_1</th>\n",
       "      <th>cust_pincode</th>\n",
       "      <th>cust_state</th>\n",
       "      <th>cust_country</th>\n",
       "      <th>cust_dateOfBirth</th>\n",
       "    </tr>\n",
       "  </thead>\n",
       "  <tbody>\n",
       "    <tr>\n",
       "      <th>0</th>\n",
       "      <td>Andrew</td>\n",
       "      <td>Evans</td>\n",
       "      <td>+1-201-478-1402</td>\n",
       "      <td>73503 Patton Drive Suite 038\\nParsonsbury, RI ...</td>\n",
       "      <td>66117</td>\n",
       "      <td>New Mexico</td>\n",
       "      <td>Finland</td>\n",
       "      <td>1997-09-28</td>\n",
       "    </tr>\n",
       "    <tr>\n",
       "      <th>1</th>\n",
       "      <td>Matthew</td>\n",
       "      <td>Baker</td>\n",
       "      <td>+1-649-969-4016x543</td>\n",
       "      <td>0837 Stone Track\\nNorth Joycetown, ID 43043</td>\n",
       "      <td>79720</td>\n",
       "      <td>North Dakota</td>\n",
       "      <td>Malawi</td>\n",
       "      <td>1985-06-18</td>\n",
       "    </tr>\n",
       "    <tr>\n",
       "      <th>2</th>\n",
       "      <td>Carol</td>\n",
       "      <td>Castro</td>\n",
       "      <td>+1-667-523-1982x8221</td>\n",
       "      <td>8671 Wiley Circle\\nKinghaven, FL 44944</td>\n",
       "      <td>04741</td>\n",
       "      <td>Vermont</td>\n",
       "      <td>Armenia</td>\n",
       "      <td>1971-02-15</td>\n",
       "    </tr>\n",
       "    <tr>\n",
       "      <th>3</th>\n",
       "      <td>Hannah</td>\n",
       "      <td>Morse</td>\n",
       "      <td>+1-518-972-0910x7305</td>\n",
       "      <td>558 Smith Stream\\nPatrickchester, MI 07258</td>\n",
       "      <td>66602</td>\n",
       "      <td>Massachusetts</td>\n",
       "      <td>Angola</td>\n",
       "      <td>1926-03-03</td>\n",
       "    </tr>\n",
       "    <tr>\n",
       "      <th>4</th>\n",
       "      <td>Brandon</td>\n",
       "      <td>Medina</td>\n",
       "      <td>(736)548-1602</td>\n",
       "      <td>25397 Marco Cliff Suite 565\\nLake Carolynmouth...</td>\n",
       "      <td>97647</td>\n",
       "      <td>Missouri</td>\n",
       "      <td>Mali</td>\n",
       "      <td>1931-11-21</td>\n",
       "    </tr>\n",
       "  </tbody>\n",
       "</table>\n",
       "</div>"
      ],
      "text/plain": [
       "  cust_first_name cust_last_name            cust_phone  \\\n",
       "0          Andrew          Evans       +1-201-478-1402   \n",
       "1         Matthew          Baker   +1-649-969-4016x543   \n",
       "2           Carol         Castro  +1-667-523-1982x8221   \n",
       "3          Hannah          Morse  +1-518-972-0910x7305   \n",
       "4         Brandon         Medina         (736)548-1602   \n",
       "\n",
       "                                      cust_address_1 cust_pincode  \\\n",
       "0  73503 Patton Drive Suite 038\\nParsonsbury, RI ...        66117   \n",
       "1        0837 Stone Track\\nNorth Joycetown, ID 43043        79720   \n",
       "2             8671 Wiley Circle\\nKinghaven, FL 44944        04741   \n",
       "3         558 Smith Stream\\nPatrickchester, MI 07258        66602   \n",
       "4  25397 Marco Cliff Suite 565\\nLake Carolynmouth...        97647   \n",
       "\n",
       "      cust_state cust_country cust_dateOfBirth  \n",
       "0     New Mexico      Finland       1997-09-28  \n",
       "1   North Dakota       Malawi       1985-06-18  \n",
       "2        Vermont      Armenia       1971-02-15  \n",
       "3  Massachusetts       Angola       1926-03-03  \n",
       "4       Missouri         Mali       1931-11-21  "
      ]
     },
     "execution_count": 72,
     "metadata": {},
     "output_type": "execute_result"
    }
   ],
   "source": [
    "df.head()"
   ]
  },
  {
   "cell_type": "code",
   "execution_count": 74,
   "metadata": {},
   "outputs": [],
   "source": [
    "df.to_csv('customerData.csv', index=False)"
   ]
  },
  {
   "cell_type": "code",
   "execution_count": null,
   "metadata": {},
   "outputs": [],
   "source": []
  }
 ],
 "metadata": {
  "kernelspec": {
   "display_name": "Python 3.9.13 64-bit",
   "language": "python",
   "name": "python3"
  },
  "language_info": {
   "codemirror_mode": {
    "name": "ipython",
    "version": 3
   },
   "file_extension": ".py",
   "mimetype": "text/x-python",
   "name": "python",
   "nbconvert_exporter": "python",
   "pygments_lexer": "ipython3",
   "version": "3.9.13"
  },
  "orig_nbformat": 4,
  "vscode": {
   "interpreter": {
    "hash": "703b446c4f8184c7de1da41a9f9eba1348b670e8751bca9fd799aab6e4f1aa73"
   }
  }
 },
 "nbformat": 4,
 "nbformat_minor": 2
}
