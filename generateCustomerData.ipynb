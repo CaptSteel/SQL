{
 "cells": [
  {
   "cell_type": "code",
   "execution_count": 1,
   "metadata": {},
   "outputs": [],
   "source": [
    "import pandas as pd\n",
    "from faker import Faker"
   ]
  },
  {
   "cell_type": "code",
   "execution_count": 2,
   "metadata": {},
   "outputs": [],
   "source": [
    "fake = Faker()"
   ]
  },
  {
   "cell_type": "markdown",
   "metadata": {},
   "source": [
    "### Generating data"
   ]
  },
  {
   "cell_type": "code",
   "execution_count": 5,
   "metadata": {},
   "outputs": [],
   "source": [
    "# Customer Name\n",
    "n = 100000\n",
    "id = ['ID_'+str(i+1) for i in range(n)]\n",
    "first_name = [fake.first_name() for i in range(n)]\n",
    "middle_name = [fake.first_name() for i in range(n)]\n",
    "last_name = [fake.last_name() for i in range(n)]\n",
    "phone = [fake.phone_number() for i in range(n)]\n",
    "address = [fake.address() for i in range(n)]\n",
    "pincode = [fake.postalcode_in_state() for i in range(n)]\n",
    "state = [fake.state() for i in range(n)]\n",
    "country = [fake.country() for i in range(n)]\n",
    "dob = [fake.date_of_birth() for i in range(n)]"
   ]
  },
  {
   "cell_type": "markdown",
   "metadata": {},
   "source": [
    "### Converting data to dataframe"
   ]
  },
  {
   "cell_type": "code",
   "execution_count": 6,
   "metadata": {},
   "outputs": [],
   "source": [
    "cdata = {\n",
    "    'customer_id':id,\n",
    "    'cust_first_name':first_name,\n",
    "    'cust_middle_name':middle_name,\n",
    "    'cust_last_name':last_name,\n",
    "    'cust_phone':phone,\n",
    "    'cust_address_1':address,\n",
    "    'cust_pincode':pincode,\n",
    "    'cust_state':state,\n",
    "    'cust_country':country,\n",
    "    'cust_dateOfBirth':dob\n",
    "}\n",
    "# cols = ['cust_first_name', 'cust_last_name', 'cust_phone']"
   ]
  },
  {
   "cell_type": "code",
   "execution_count": 7,
   "metadata": {},
   "outputs": [],
   "source": [
    "df = pd.DataFrame(cdata)"
   ]
  },
  {
   "cell_type": "code",
   "execution_count": 8,
   "metadata": {},
   "outputs": [
    {
     "name": "stdout",
     "output_type": "stream",
     "text": [
      "<class 'pandas.core.frame.DataFrame'>\n",
      "RangeIndex: 100000 entries, 0 to 99999\n",
      "Data columns (total 10 columns):\n",
      " #   Column            Non-Null Count   Dtype \n",
      "---  ------            --------------   ----- \n",
      " 0   customer_id       100000 non-null  object\n",
      " 1   cust_first_name   100000 non-null  object\n",
      " 2   cust_middle_name  100000 non-null  object\n",
      " 3   cust_last_name    100000 non-null  object\n",
      " 4   cust_phone        100000 non-null  object\n",
      " 5   cust_address_1    100000 non-null  object\n",
      " 6   cust_pincode      100000 non-null  object\n",
      " 7   cust_state        100000 non-null  object\n",
      " 8   cust_country      100000 non-null  object\n",
      " 9   cust_dateOfBirth  100000 non-null  object\n",
      "dtypes: object(10)\n",
      "memory usage: 7.6+ MB\n"
     ]
    }
   ],
   "source": [
    "df.info()"
   ]
  },
  {
   "cell_type": "code",
   "execution_count": 9,
   "metadata": {},
   "outputs": [
    {
     "data": {
      "text/html": [
       "<div>\n",
       "<style scoped>\n",
       "    .dataframe tbody tr th:only-of-type {\n",
       "        vertical-align: middle;\n",
       "    }\n",
       "\n",
       "    .dataframe tbody tr th {\n",
       "        vertical-align: top;\n",
       "    }\n",
       "\n",
       "    .dataframe thead th {\n",
       "        text-align: right;\n",
       "    }\n",
       "</style>\n",
       "<table border=\"1\" class=\"dataframe\">\n",
       "  <thead>\n",
       "    <tr style=\"text-align: right;\">\n",
       "      <th></th>\n",
       "      <th>customer_id</th>\n",
       "      <th>cust_first_name</th>\n",
       "      <th>cust_middle_name</th>\n",
       "      <th>cust_last_name</th>\n",
       "      <th>cust_phone</th>\n",
       "      <th>cust_address_1</th>\n",
       "      <th>cust_pincode</th>\n",
       "      <th>cust_state</th>\n",
       "      <th>cust_country</th>\n",
       "      <th>cust_dateOfBirth</th>\n",
       "    </tr>\n",
       "  </thead>\n",
       "  <tbody>\n",
       "    <tr>\n",
       "      <th>0</th>\n",
       "      <td>ID_1</td>\n",
       "      <td>Shannon</td>\n",
       "      <td>Danielle</td>\n",
       "      <td>Simmons</td>\n",
       "      <td>001-733-902-6406</td>\n",
       "      <td>92604 Haley Mount Suite 006\\nLake Karen, MN 79722</td>\n",
       "      <td>99841</td>\n",
       "      <td>Vermont</td>\n",
       "      <td>Lao People's Democratic Republic</td>\n",
       "      <td>1917-07-13</td>\n",
       "    </tr>\n",
       "    <tr>\n",
       "      <th>1</th>\n",
       "      <td>ID_2</td>\n",
       "      <td>Joseph</td>\n",
       "      <td>Jonathan</td>\n",
       "      <td>Fox</td>\n",
       "      <td>(644)898-6494x61895</td>\n",
       "      <td>PSC 5090, Box 2450\\nAPO AP 76164</td>\n",
       "      <td>79622</td>\n",
       "      <td>South Dakota</td>\n",
       "      <td>Malawi</td>\n",
       "      <td>2020-03-14</td>\n",
       "    </tr>\n",
       "    <tr>\n",
       "      <th>2</th>\n",
       "      <td>ID_3</td>\n",
       "      <td>Brandon</td>\n",
       "      <td>Sharon</td>\n",
       "      <td>Cardenas</td>\n",
       "      <td>(349)052-3869x61742</td>\n",
       "      <td>9513 Diane Freeway\\nDavidfort, MD 05352</td>\n",
       "      <td>47374</td>\n",
       "      <td>West Virginia</td>\n",
       "      <td>Belize</td>\n",
       "      <td>1959-11-29</td>\n",
       "    </tr>\n",
       "    <tr>\n",
       "      <th>3</th>\n",
       "      <td>ID_4</td>\n",
       "      <td>Phillip</td>\n",
       "      <td>Randy</td>\n",
       "      <td>Parker</td>\n",
       "      <td>853-535-9863x3181</td>\n",
       "      <td>398 Smith Streets Apt. 139\\nJacquelineshire, O...</td>\n",
       "      <td>85413</td>\n",
       "      <td>Utah</td>\n",
       "      <td>Saint Pierre and Miquelon</td>\n",
       "      <td>1935-07-20</td>\n",
       "    </tr>\n",
       "    <tr>\n",
       "      <th>4</th>\n",
       "      <td>ID_5</td>\n",
       "      <td>Christina</td>\n",
       "      <td>Jillian</td>\n",
       "      <td>Mcmahon</td>\n",
       "      <td>7150927704</td>\n",
       "      <td>6413 Jennifer Ridges Suite 945\\nCynthiashire, ...</td>\n",
       "      <td>68030</td>\n",
       "      <td>New Hampshire</td>\n",
       "      <td>Madagascar</td>\n",
       "      <td>1949-12-16</td>\n",
       "    </tr>\n",
       "  </tbody>\n",
       "</table>\n",
       "</div>"
      ],
      "text/plain": [
       "  customer_id cust_first_name cust_middle_name cust_last_name  \\\n",
       "0        ID_1         Shannon         Danielle        Simmons   \n",
       "1        ID_2          Joseph         Jonathan            Fox   \n",
       "2        ID_3         Brandon           Sharon       Cardenas   \n",
       "3        ID_4         Phillip            Randy         Parker   \n",
       "4        ID_5       Christina          Jillian        Mcmahon   \n",
       "\n",
       "            cust_phone                                     cust_address_1  \\\n",
       "0     001-733-902-6406  92604 Haley Mount Suite 006\\nLake Karen, MN 79722   \n",
       "1  (644)898-6494x61895                   PSC 5090, Box 2450\\nAPO AP 76164   \n",
       "2  (349)052-3869x61742            9513 Diane Freeway\\nDavidfort, MD 05352   \n",
       "3    853-535-9863x3181  398 Smith Streets Apt. 139\\nJacquelineshire, O...   \n",
       "4           7150927704  6413 Jennifer Ridges Suite 945\\nCynthiashire, ...   \n",
       "\n",
       "  cust_pincode     cust_state                      cust_country  \\\n",
       "0        99841        Vermont  Lao People's Democratic Republic   \n",
       "1        79622   South Dakota                            Malawi   \n",
       "2        47374  West Virginia                            Belize   \n",
       "3        85413           Utah         Saint Pierre and Miquelon   \n",
       "4        68030  New Hampshire                        Madagascar   \n",
       "\n",
       "  cust_dateOfBirth  \n",
       "0       1917-07-13  \n",
       "1       2020-03-14  \n",
       "2       1959-11-29  \n",
       "3       1935-07-20  \n",
       "4       1949-12-16  "
      ]
     },
     "execution_count": 9,
     "metadata": {},
     "output_type": "execute_result"
    }
   ],
   "source": [
    "df.head()"
   ]
  },
  {
   "cell_type": "code",
   "execution_count": 10,
   "metadata": {},
   "outputs": [],
   "source": [
    "df.to_csv('customerData.csv', index=False)"
   ]
  },
  {
   "cell_type": "code",
   "execution_count": null,
   "metadata": {},
   "outputs": [],
   "source": []
  }
 ],
 "metadata": {
  "kernelspec": {
   "display_name": "Python 3.9.13 64-bit",
   "language": "python",
   "name": "python3"
  },
  "language_info": {
   "codemirror_mode": {
    "name": "ipython",
    "version": 3
   },
   "file_extension": ".py",
   "mimetype": "text/x-python",
   "name": "python",
   "nbconvert_exporter": "python",
   "pygments_lexer": "ipython3",
   "version": "3.9.13"
  },
  "orig_nbformat": 4,
  "vscode": {
   "interpreter": {
    "hash": "703b446c4f8184c7de1da41a9f9eba1348b670e8751bca9fd799aab6e4f1aa73"
   }
  }
 },
 "nbformat": 4,
 "nbformat_minor": 2
}
